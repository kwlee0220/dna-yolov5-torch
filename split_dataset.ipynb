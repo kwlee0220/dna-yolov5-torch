{
 "cells": [
  {
   "cell_type": "code",
   "execution_count": null,
   "source": [
    "from pathlib import Path\r\n",
    "import shutil"
   ],
   "outputs": [],
   "metadata": {}
  },
  {
   "cell_type": "markdown",
   "source": [
    "# Setup Configuration"
   ],
   "metadata": {}
  },
  {
   "cell_type": "code",
   "execution_count": null,
   "source": [
    "SEED = 777\r\n",
    "\r\n",
    "SRC_DATASET_DIR = Path('<src dataset path>')\r\n",
    "DEST_DATASET_DIR = Path('<dest dataset path>')\r\n",
    "\r\n",
    "# dataset 분할 설정\r\n",
    "TEST_RATIO = 0.1\r\n",
    "VALID_RATIO = 0.2\r\n",
    "TRAIN_RATIO = 1 - TEST_RATIO - VALID_RATIO"
   ],
   "outputs": [],
   "metadata": {}
  },
  {
   "cell_type": "markdown",
   "source": [
    "# Prepare Dataset\n",
    "## Scan Input Dataset"
   ],
   "metadata": {}
  },
  {
   "cell_type": "code",
   "execution_count": null,
   "source": [
    "dataset = [path for path in SRC_DATASET_DIR.glob('**/*.jpg')]\r\n",
    "\r\n",
    "n_total = len(dataset)\r\n",
    "n_test = round(n_total * TEST_RATIO)\r\n",
    "n_valid = round(n_total * VALID_RATIO)\r\n",
    "n_train = round(n_total * TRAIN_RATIO)\r\n",
    "\r\n",
    "print(f'dataset: total({n_total}), train({n_train}), valid({n_valid}), test({n_test})')"
   ],
   "outputs": [],
   "metadata": {}
  },
  {
   "cell_type": "markdown",
   "source": [
    "## Split dataset into training set, validation set, and test set"
   ],
   "metadata": {}
  },
  {
   "cell_type": "code",
   "execution_count": null,
   "source": [
    "from sklearn.model_selection import train_test_split\r\n",
    "\r\n",
    "train_set, valid_set, test_set = dataset, [], []\r\n",
    "if n_test > 0:\r\n",
    "    train_set, test_set = train_test_split(train_set, test_size=n_test, random_state=SEED)\r\n",
    "if n_valid > 0:\r\n",
    "    train_set, valid_set = train_test_split(train_set, test_size=n_valid, random_state=SEED)\r\n",
    "\r\n",
    "print('train_set({}), validation_set({}), test_set({})'.format(len(train_set), len(valid_set), len(test_set)))"
   ],
   "outputs": [],
   "metadata": {}
  },
  {
   "cell_type": "code",
   "execution_count": null,
   "source": [
    "def move_files(dataset, dest_dir):\n",
    "    images_dir = dest_dir / 'images'\n",
    "    labels_dir = dest_dir / 'labels'\n",
    "    \n",
    "    images_dir.mkdir(parents=True, exist_ok=True)\n",
    "    labels_dir.mkdir(parents=True, exist_ok=True)\n",
    "    \n",
    "    for src_path in dataset:\n",
    "        src_base = src_path.parents[0]\n",
    "        id = src_path.stem\n",
    "        \n",
    "        image_fname = id + '.jpg'\n",
    "        shutil.move(src_base / image_fname, images_dir / image_fname)\n",
    "        \n",
    "        labels_base = src_base.parents[0] / 'labels' if src_base.name == 'images' else src_base\n",
    "        label_fname = id + '.txt'\n",
    "        shutil.move(labels_base / label_fname, labels_dir / label_fname)\n",
    "\n",
    "if len(train_set) > 0:\n",
    "    move_files(train_set, DEST_DATASET_DIR / 'train')\n",
    "\n",
    "if len(valid_set) > 0:\n",
    "    move_files(valid_set, DEST_DATASET_DIR / 'valid')\n",
    "\n",
    "if len(test_set) > 0:\n",
    "    move_files(test_set, DEST_DATASET_DIR / 'test')"
   ],
   "outputs": [],
   "metadata": {}
  },
  {
   "cell_type": "code",
   "execution_count": null,
   "source": [],
   "outputs": [],
   "metadata": {}
  }
 ],
 "metadata": {
  "kernelspec": {
   "display_name": "Python 3",
   "language": "python",
   "name": "python3"
  },
  "language_info": {
   "codemirror_mode": {
    "name": "ipython",
    "version": 3
   },
   "file_extension": ".py",
   "mimetype": "text/x-python",
   "name": "python",
   "nbconvert_exporter": "python",
   "pygments_lexer": "ipython3",
   "version": "3.8.10"
  }
 },
 "nbformat": 4,
 "nbformat_minor": 5
}