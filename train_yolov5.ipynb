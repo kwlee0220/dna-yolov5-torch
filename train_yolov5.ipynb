{
 "cells": [
  {
   "cell_type": "code",
   "execution_count": null,
   "source": [
    "from pathlib import Path\r\n",
    "import shutil"
   ],
   "outputs": [],
   "metadata": {}
  },
  {
   "cell_type": "markdown",
   "source": [
    "# Setup Configuration"
   ],
   "metadata": {}
  },
  {
   "cell_type": "code",
   "execution_count": null,
   "source": [
    "SEED = 777\r\n",
    "\r\n",
    "HOME = Path('C:/temp/test')\r\n",
    "DATASET_DIR = Path('C:/temp/test/dataset')\r\n",
    "\r\n",
    "# 검출 class 리스트\r\n",
    "CLASSES = ['pistol']\r\n",
    "\r\n",
    "# Yolo V5 설정\r\n",
    "NAME = 'pistol'\r\n",
    "YOLOV5_DIR = HOME / 'yolov5'\r\n",
    "BATCH_SIZE = 128\r\n",
    "EPOCHS = 50\r\n",
    "IMAGE_SIZE = 416\r\n",
    "YOLO_V5 = 'yolov5s'\r\n",
    "MODEL = YOLOV5_DIR / 'models' / f\"{YOLO_V5}.yaml\"\r\n",
    "WEIGHTS = YOLOV5_DIR / 'weights' / f\"{YOLO_V5}.pt\"\r\n",
    "#WEIGHTS = '\\'\\''\r\n",
    "\r\n",
    "# training 전에 기존 training 정보가 기록된 디렉토리 삭제 여부\r\n",
    "REMOVE_PREV_RUNS = True\r\n",
    "# training에 필요한 python library 설치 여부\r\n",
    "INSTALL_REQUIREMENTS = False\r\n",
    "\r\n",
    "# 'data.yaml' configuration\r\n",
    "DATA_YAML = HOME / 'data.yaml'\r\n",
    "n_classes = len(CLASSES)\r\n",
    "class_expr = 'names: {}'.format(CLASSES)"
   ],
   "outputs": [],
   "metadata": {}
  },
  {
   "cell_type": "markdown",
   "source": [
    "# Download YOLO v5 Library"
   ],
   "metadata": {}
  },
  {
   "cell_type": "code",
   "execution_count": null,
   "source": [
    "%cd {HOME}\r\n",
    "\r\n",
    "!git clone https://github.com/ultralytics/yolov5.git"
   ],
   "outputs": [],
   "metadata": {
    "scrolled": true
   }
  },
  {
   "cell_type": "code",
   "execution_count": null,
   "source": [
    "if INSTALL_REQUIREMENTS:\r\n",
    "    %cd {YOLOV5_DIR}\r\n",
    "    \r\n",
    "    !pip install -r requirements.txt"
   ],
   "outputs": [],
   "metadata": {}
  },
  {
   "cell_type": "markdown",
   "source": [
    "# Creating `data.yaml` file"
   ],
   "metadata": {}
  },
  {
   "cell_type": "code",
   "execution_count": null,
   "source": [
    "#customize iPython writefile so we can write variables\r\n",
    "from IPython.core.magic import register_line_cell_magic\r\n",
    "\r\n",
    "@register_line_cell_magic\r\n",
    "def writetemplate(line, cell):\r\n",
    "    with open(line, 'w') as f:\r\n",
    "        f.write(cell.format(**globals()))"
   ],
   "outputs": [],
   "metadata": {}
  },
  {
   "cell_type": "code",
   "execution_count": null,
   "source": [
    "%cd {DATA_YAML.parents[0]}\r\n",
    "\r\n",
    "train_images_dir = DATASET_DIR / 'train' / 'images'\r\n",
    "valid_images_dir = DATASET_DIR / 'valid' / 'images'"
   ],
   "outputs": [],
   "metadata": {}
  },
  {
   "cell_type": "code",
   "execution_count": null,
   "source": [
    "%%writetemplate data.yaml\r\n",
    "train: {train_images_dir}\r\n",
    "val: {valid_images_dir}\r\n",
    "    \r\n",
    "nc: {n_classes}\r\n",
    "{class_expr}"
   ],
   "outputs": [],
   "metadata": {}
  },
  {
   "cell_type": "markdown",
   "source": [
    "# Train a Model\n",
    "## Remove the previous 'runs'"
   ],
   "metadata": {}
  },
  {
   "cell_type": "code",
   "execution_count": null,
   "source": [
    "if REMOVE_PREV_RUNS:\r\n",
    "    runs_path = YOLOV5_DIR / 'runs'\r\n",
    "    shutil.rmtree(runs_path, ignore_errors=True)"
   ],
   "outputs": [],
   "metadata": {}
  },
  {
   "cell_type": "markdown",
   "source": [
    "## Create train command"
   ],
   "metadata": {}
  },
  {
   "cell_type": "code",
   "execution_count": null,
   "source": [
    "%cd {YOLOV5_DIR}\r\n",
    "\r\n",
    "COMMAND = (f'train.py --img {IMAGE_SIZE} --batch {BATCH_SIZE} --epochs {EPOCHS} --data {DATA_YAML} '\r\n",
    "            f'--cfg {MODEL} --weights {WEIGHTS} --name {NAME} --cache')\r\n",
    "\r\n",
    "print('python -Xutf8 ' + COMMAND)"
   ],
   "outputs": [],
   "metadata": {}
  },
  {
   "cell_type": "code",
   "execution_count": null,
   "source": [
    "!python {COMMAND}"
   ],
   "outputs": [],
   "metadata": {
    "scrolled": true
   }
  },
  {
   "cell_type": "code",
   "execution_count": null,
   "source": [
    "TRAINED_WEIGHT = YOLOV5_DIR / 'runs' / 'train' / NAME / 'weights' / 'best.pt'\r\n",
    "DEST_WEIGHT = HOME / f'{NAME}_best.pt'\r\n",
    "shutil.copyfile(TRAINED_WEIGHT, DEST_WEIGHT)"
   ],
   "outputs": [],
   "metadata": {}
  },
  {
   "cell_type": "code",
   "execution_count": null,
   "source": [
    "test_dir = DATASET_DIR / 'test' / 'images'\r\n",
    "if test_dir.exists():\r\n",
    "    COMMAND = (f'detect.py --weights {DEST_WEIGHT} --img {IMAGE_SIZE} --conf 0.1 --line-thickness 2 '\r\n",
    "               f'--source {test_dir}')\r\n",
    "    print('python -Xutf8 ' + COMMAND)"
   ],
   "outputs": [],
   "metadata": {}
  },
  {
   "cell_type": "code",
   "execution_count": null,
   "source": [
    "if test_dir.exists():\r\n",
    "    !python {COMMAND}"
   ],
   "outputs": [],
   "metadata": {}
  },
  {
   "cell_type": "code",
   "execution_count": null,
   "source": [],
   "outputs": [],
   "metadata": {}
  }
 ],
 "metadata": {
  "kernelspec": {
   "display_name": "Python 3",
   "language": "python",
   "name": "python3"
  },
  "language_info": {
   "codemirror_mode": {
    "name": "ipython",
    "version": 3
   },
   "file_extension": ".py",
   "mimetype": "text/x-python",
   "name": "python",
   "nbconvert_exporter": "python",
   "pygments_lexer": "ipython3",
   "version": "3.8.10"
  }
 },
 "nbformat": 4,
 "nbformat_minor": 5
}