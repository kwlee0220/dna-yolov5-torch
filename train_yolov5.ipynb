{
 "cells": [
  {
   "cell_type": "code",
   "execution_count": null,
   "id": "7b63ec31",
   "metadata": {},
   "outputs": [],
   "source": [
    "from pathlib import Path\n",
    "import shutil"
   ]
  },
  {
   "cell_type": "markdown",
   "id": "70df2dc4",
   "metadata": {},
   "source": [
    "# Setup Configuration"
   ]
  },
  {
   "cell_type": "code",
   "execution_count": null,
   "id": "e0a93355",
   "metadata": {},
   "outputs": [],
   "source": [
    "SEED = 777\n",
    "\n",
    "HOME = Path('C:/temp/test')\n",
    "DATASET_DIR = Path('C:/temp/test/dataset')\n",
    "\n",
    "# 검출 class 리스트\n",
    "CLASSES = ['pistol']\n",
    "\n",
    "# Yolo V5 설정\n",
    "NAME = 'pistol'\n",
    "YOLOV5_DIR = HOME / 'yolov5'\n",
    "BATCH_SIZE = 128\n",
    "EPOCHS = 50\n",
    "IMAGE_SIZE = 416\n",
    "YOLO_V5 = 'yolov5s'\n",
    "MODEL = YOLOV5_DIR / 'models' / f\"{YOLO_V5}.yaml\"\n",
    "WEIGHTS = YOLOV5_DIR / 'weights' / f\"{YOLO_V5}.pt\"\n",
    "#WEIGHTS = '\\'\\''\n",
    "\n",
    "# training 전에 기존 training 정보가 기록된 디렉토리 삭제 여부\n",
    "REMOVE_PREV_RUNS = True\n",
    "# training에 필요한 python library 설치 여부\n",
    "INSTALL_REQUIREMENTS = False\n",
    "\n",
    "# 'data.yaml' configuration\n",
    "DATA_YAML = HOME / 'data.yaml'\n",
    "n_classes = len(CLASSES)\n",
    "class_expr = 'names: {}'.format(CLASSES)"
   ]
  },
  {
   "cell_type": "markdown",
   "id": "7635f356",
   "metadata": {},
   "source": [
    "# Download YOLO v5 Library"
   ]
  },
  {
   "cell_type": "code",
   "execution_count": null,
   "id": "1cb17d18",
   "metadata": {
    "scrolled": true
   },
   "outputs": [],
   "source": [
    "%cd {HOME}\n",
    "\n",
    "!git clone https://github.com/ultralytics/yolov5.git"
   ]
  },
  {
   "cell_type": "code",
   "execution_count": null,
   "id": "70ae352d",
   "metadata": {},
   "outputs": [],
   "source": [
    "if INSTALL_REQUIREMENTS:\n",
    "    %cd {YOLOV5_DIR}\n",
    "    \n",
    "    !pip install -r requirements.txt"
   ]
  },
  {
   "cell_type": "markdown",
   "id": "f0a395b0",
   "metadata": {},
   "source": [
    "# Creating `data.yaml` file"
   ]
  },
  {
   "cell_type": "code",
   "execution_count": null,
   "id": "2b2b85d9",
   "metadata": {},
   "outputs": [],
   "source": [
    "#customize iPython writefile so we can write variables\n",
    "from IPython.core.magic import register_line_cell_magic\n",
    "\n",
    "@register_line_cell_magic\n",
    "def writetemplate(line, cell):\n",
    "    with open(line, 'w') as f:\n",
    "        f.write(cell.format(**globals()))"
   ]
  },
  {
   "cell_type": "code",
   "execution_count": null,
   "id": "8e9529fa",
   "metadata": {},
   "outputs": [],
   "source": [
    "%cd {DATA_YAML.parents[0]}\n",
    "\n",
    "train_images_dir = DATASET_DIR / 'train' / 'images'\n",
    "valid_images_dir = DATASET_DIR / 'valid' / 'images'"
   ]
  },
  {
   "cell_type": "code",
   "execution_count": null,
   "id": "00d1446f",
   "metadata": {},
   "outputs": [],
   "source": [
    "%%writetemplate data.yaml\n",
    "train: {train_images_dir}\n",
    "val: {valid_images_dir}\n",
    "    \n",
    "nc: {n_classes}\n",
    "{class_expr}"
   ]
  },
  {
   "cell_type": "markdown",
   "id": "a1533ea5",
   "metadata": {},
   "source": [
    "# Train a Model\n",
    "## Remove the previous 'runs'"
   ]
  },
  {
   "cell_type": "code",
   "execution_count": null,
   "id": "b24d8264",
   "metadata": {},
   "outputs": [],
   "source": [
    "if REMOVE_PREV_RUNS:\n",
    "    runs_path = YOLOV5_DIR / 'runs'\n",
    "    shutil.rmtree(runs_path, ignore_errors=True)"
   ]
  },
  {
   "cell_type": "markdown",
   "id": "7ca0de8e",
   "metadata": {},
   "source": [
    "## Create train command"
   ]
  },
  {
   "cell_type": "code",
   "execution_count": null,
   "id": "e469f9e6",
   "metadata": {},
   "outputs": [],
   "source": [
    "%cd {YOLOV5_DIR}\n",
    "\n",
    "COMMAND = (f'train.py --img {IMAGE_SIZE} --batch {BATCH_SIZE} --epochs {EPOCHS} --data {DATA_YAML} '\n",
    "            f'--cfg {MODEL} --weights {WEIGHTS} --name {NAME} --cache')\n",
    "\n",
    "print('python ' + COMMAND)"
   ]
  },
  {
   "cell_type": "code",
   "execution_count": null,
   "id": "9f391056",
   "metadata": {
    "scrolled": true
   },
   "outputs": [],
   "source": [
    "!python {COMMAND}"
   ]
  },
  {
   "cell_type": "code",
   "execution_count": null,
   "id": "3c0dc5e6",
   "metadata": {},
   "outputs": [],
   "source": [
    "TRAINED_WEIGHT = YOLOV5_DIR / 'runs' / 'train' / NAME / 'weights' / 'best.pt'\n",
    "DEST_WEIGHT = HOME / f'{NAME}_best.pt'\n",
    "shutil.copyfile(TRAINED_WEIGHT, DEST_WEIGHT)"
   ]
  },
  {
   "cell_type": "code",
   "execution_count": null,
   "id": "3bf4007d",
   "metadata": {},
   "outputs": [],
   "source": [
    "test_dir = DATASET_DIR / 'test' / 'images'\n",
    "if test_dir.exists():\n",
    "    COMMAND = (f'detect.py --weights {DEST_WEIGHT} --img {IMAGE_SIZE} --conf 0.1 --line-thickness 2 '\n",
    "               f'--source {test_dir}')\n",
    "    print('python ' + COMMAND)"
   ]
  },
  {
   "cell_type": "code",
   "execution_count": null,
   "id": "b5412e1f",
   "metadata": {},
   "outputs": [],
   "source": [
    "if test_dir.exists():\n",
    "    !python {COMMAND}"
   ]
  },
  {
   "cell_type": "code",
   "execution_count": null,
   "id": "a4fe7f78",
   "metadata": {},
   "outputs": [],
   "source": []
  }
 ],
 "metadata": {
  "kernelspec": {
   "display_name": "Python 3",
   "language": "python",
   "name": "python3"
  },
  "language_info": {
   "codemirror_mode": {
    "name": "ipython",
    "version": 3
   },
   "file_extension": ".py",
   "mimetype": "text/x-python",
   "name": "python",
   "nbconvert_exporter": "python",
   "pygments_lexer": "ipython3",
   "version": "3.8.10"
  }
 },
 "nbformat": 4,
 "nbformat_minor": 5
}
