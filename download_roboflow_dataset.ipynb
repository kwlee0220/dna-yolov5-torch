{
 "cells": [
  {
   "cell_type": "code",
   "execution_count": null,
   "id": "7b63ec31",
   "metadata": {},
   "outputs": [],
   "source": [
    "from pathlib import Path\n",
    "import shutil"
   ]
  },
  {
   "cell_type": "markdown",
   "id": "70df2dc4",
   "metadata": {},
   "source": [
    "# Setup Configuration"
   ]
  },
  {
   "cell_type": "code",
   "execution_count": null,
   "id": "e0a93355",
   "metadata": {},
   "outputs": [],
   "source": [
    "ROBO_FLOW_URL = 'https://app.roboflow.com/ds/gGurQrLvFM?key=IzGOz7Ta1T'\n",
    "DATASET_DIR = Path('/home/dric/data/chess')"
   ]
  },
  {
   "cell_type": "markdown",
   "id": "4a686950",
   "metadata": {},
   "source": [
    "# Download dataset fromroboflow"
   ]
  },
  {
   "cell_type": "code",
   "execution_count": null,
   "id": "c4ae4472",
   "metadata": {},
   "outputs": [],
   "source": [
    "DATASET_DIR.mkdir(parents=True, exist_ok=True)\n",
    "\n",
    "%cd {DATASET_DIR}\n",
    "!curl -L {ROBO_FLOW_URL} > roboflow.zip; unzip roboflow.zip; rm roboflow.zip"
   ]
  }
 ],
 "metadata": {
  "kernelspec": {
   "display_name": "Python 3",
   "language": "python",
   "name": "python3"
  },
  "language_info": {
   "codemirror_mode": {
    "name": "ipython",
    "version": 3
   },
   "file_extension": ".py",
   "mimetype": "text/x-python",
   "name": "python",
   "nbconvert_exporter": "python",
   "pygments_lexer": "ipython3",
   "version": "3.8.10"
  }
 },
 "nbformat": 4,
 "nbformat_minor": 5
}
